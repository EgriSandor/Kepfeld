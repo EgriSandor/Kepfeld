{
 "cells": [
  {
   "cell_type": "markdown",
   "metadata": {},
   "source": [
    "#Automatizált vizsgalap feldolgozás\n",
    "\n",
    "A beadandó feladatnak egy meghatározott formájú teszt vizsgalap automatikus feldolgozását választottam.\n",
    "A vizsgalapot a feldolgozást megkönnyítendő, valamint a hibalehetőségek csökkentése érdekében kitalált formátumú. A teszt kérdései és válaszai, valamint azok sorrendje minden vizsgázó esetére automatikus generálható  megfelelő adatbázisból.\n",
    "\n",
    "A vizsgalap fejlécén a tárgy neve, a vizsgázó neve, Neptun kódja, valamint ezen adatokat tartalmazó QR kód található, mely utóbbi kódolva tartalmazza a vizsgalap kérdéseire adott helyes válaszokat az automatikus kiértékeléshez.\n",
    "(Az feladat kidolgozása során használt vizsgalap nem a fent leírt módon generált, csak Word állományban került összállításra)\n",
    "\n",
    "<img src=\"./img/vizsgalap.png\" width=500/>\n",
    "\n",
    "A feladat kidolgozása Python nyelven, több függvénykönyvtár felhasználásával (többek között az OpenCV) készült."
   ]
  },
  {
   "cell_type": "code",
   "execution_count": 8,
   "metadata": {},
   "outputs": [],
   "source": [
    "#Függvénykönyvtárak importálása\n",
    "import numpy as np\n",
    "import cv2\n",
    "from pyzbar.pyzbar import decode"
   ]
  },
  {
   "cell_type": "code",
   "execution_count": 9,
   "metadata": {},
   "outputs": [],
   "source": [
    "#A feldolgozandó képek beolvasása\n",
    "path = './Kepek/'\n",
    "im = cv2.imread(path+'Kepolvasas_20181119_123603_002.tif')"
   ]
  },
  {
   "cell_type": "markdown",
   "metadata": {},
   "source": [
    "A kép apró zajainak (só/bors) szűrésére elmosást (blur) alkalmazok,\n",
    "majd a képet szürkeárnyalatossá konvertálom, küszöböléssel bináris (fekete-fehér) képpé alakítom, \n",
    "végül kontúrkeresés futtatok hierarchia-fa felépítéssel."
   ]
  },
  {
   "cell_type": "code",
   "execution_count": 10,
   "metadata": {
    "scrolled": true
   },
   "outputs": [],
   "source": [
    "im2 = cv2.blur(im,(3,3))\n",
    "imgray = cv2.cvtColor(im2, cv2.COLOR_BGR2GRAY)\n",
    "\n",
    "ret, thresh = cv2.threshold(imgray, 55, 255, cv2.THRESH_OTSU)\n",
    "_, contours, hierarchy = cv2.findContours(thresh, cv2.RETR_TREE, cv2.CHAIN_APPROX_NONE)\n"
   ]
  },
  {
   "cell_type": "markdown",
   "metadata": {},
   "source": [
    "A megtalált kontúrok közül hierarchiájában megkeressük amelyiknek az 1. számú a szülője, \n",
    "melyet egy, az Y koordinátával indexelt asszociatív tömbbel (dictionary) tárolunk. \n",
    "(Így a vizsgalap legkülső keretén belüli elválasztott tartományokat kapjuk meg.)"
   ]
  },
  {
   "cell_type": "code",
   "execution_count": 11,
   "metadata": {},
   "outputs": [],
   "source": [
    "elso_szint_dict = {}\n",
    "\n",
    "for i in range(0, len(contours)):\n",
    "    if hierarchy[0,i,3] == 1:\n",
    "        elso_szint_dict[contours[i][0][0][1]] = i"
   ]
  },
  {
   "cell_type": "markdown",
   "metadata": {},
   "source": [
    "A fenti tömb értékeit felhasználva megkeressük azok gyerek régióit, melyek 4-4 alrégiót tartalmaznak.\n",
    "(Ezzel a válaszok megjelölésére használt négyzetek körüli keret tartományt kapjuk.)"
   ]
  },
  {
   "cell_type": "code",
   "execution_count": 12,
   "metadata": {},
   "outputs": [],
   "source": [
    "jel_kontener_dict = {}\n",
    "\n",
    "for h in elso_szint_dict.values(): \n",
    "    alkontur=0\n",
    "    for i in range(0, len(contours)):\n",
    "         if hierarchy[0,i,3] == h:\n",
    "            alkontur+=1\n",
    "    if alkontur==4:\n",
    "        jel_kontener_dict[contours[h][0][0][1]] = h"
   ]
  },
  {
   "cell_type": "markdown",
   "metadata": {},
   "source": [
    "Végül a kontúrlistából kiválogatjuk azokat, melyek a fenti régióba esnek, azaz a jelölőnégyzeteket.\n"
   ]
  },
  {
   "cell_type": "code",
   "execution_count": 14,
   "metadata": {},
   "outputs": [],
   "source": [
    "negyzetek_dict = {}\n",
    "\n",
    "for b in jel_kontener_dict.values():\n",
    "    for i in range(0, len(contours)):\n",
    "         if hierarchy[0,i,3] == b:\n",
    "             negyzetek_dict[contours[i][0][0][1]] = i\n"
   ]
  },
  {
   "cell_type": "markdown",
   "metadata": {},
   "source": [
    "A lenti kód végigmegy a jelölőnégyzet régiók listáján, és megvizsgálja, hogy azok befoglaló négyzetén belül\n",
    "mennyi a fehér és fekete képpontok száma. A vizsgálathoz nem a befoglaló négyzet hanem egy attól 3-3 képponttal kisebb négyzeten belüli területet vizsgál. Ez azért szükséges, hogy a jelölőnégyzet fekete keretének képpontjai  ne kerüljenek megszámlálásre.\n",
    "A fekete képpontok arányát hasonlítva az összes (fekete plusz fehér) képpontok számához kapjuk hogy az adott jelölőnégyzet megjelölésre került-e a vizsgázó által.\n",
    "\n",
    "A kód egy gyors listát ír ki a kérdésekhez kapcsolódó jelölőnégyzetek bejelöltségéről.\n",
    "(Ezen kódot alapul véve, és a lenti QR kód feldolgozás alapján - az abban kódolt helyes válasz adatok segítségével - lehet egy valódi kiértékelő algoritmust készíteni, mely a helyes válaszok alapján számít pontokat, összpontszámot és végül osztályzatot, de ez már nem a képfeldolgozás témaköre)"
   ]
  },
  {
   "cell_type": "code",
   "execution_count": 15,
   "metadata": {},
   "outputs": [
    {
     "name": "stdout",
     "output_type": "stream",
     "text": [
      "1. kerdes:\n",
      "a. valasz nincs bejelolve\n",
      "b. valasz nincs bejelolve\n",
      "c. valasz nincs bejelolve\n",
      "d. valasz nincs bejelolve\n",
      "2. kerdes:\n",
      "a. valasz bejelolve\n",
      "b. valasz nincs bejelolve\n",
      "c. valasz nincs bejelolve\n",
      "d. valasz nincs bejelolve\n",
      "3. kerdes:\n",
      "a. valasz nincs bejelolve\n",
      "b. valasz nincs bejelolve\n",
      "c. valasz nincs bejelolve\n",
      "d. valasz nincs bejelolve\n",
      "4. kerdes:\n",
      "a. valasz nincs bejelolve\n",
      "b. valasz bejelolve\n",
      "c. valasz nincs bejelolve\n",
      "d. valasz nincs bejelolve\n",
      "5. kerdes:\n",
      "a. valasz bejelolve\n",
      "b. valasz nincs bejelolve\n",
      "c. valasz nincs bejelolve\n",
      "d. valasz nincs bejelolve\n"
     ]
    }
   ],
   "source": [
    "kerdes_szam = 1\n",
    "\n",
    "k_dict= {1:\"a\", 2: \"b\", 3:\"c\", 4:\"d\"}\n",
    "\n",
    "for d in sorted(jel_kontener_dict.keys()):\n",
    "    print( str(kerdes_szam) + '. kerdes:')\n",
    "    valasz_szam=1\n",
    "    for k in sorted(negyzetek_dict):\n",
    "        if hierarchy[0,negyzetek_dict[k],3] == jel_kontener_dict[d]:\n",
    "            x,y,w,h = cv2.boundingRect(contours[negyzetek_dict[k]])\n",
    "            black = 0\n",
    "            white = 0\n",
    "            rx = range(x+3, x+w-3)        #mivel a befoglaló négyzet a \n",
    "            ry = range(y+3, y+h-3)\n",
    "            for x1 in rx:\n",
    "                for y1 in ry:\n",
    "                    pont = thresh[y1][x1]\n",
    "                    if  pont < 100: \n",
    "                        black+=1\n",
    "                    else:\n",
    "                         white+=1\n",
    "\n",
    "            if black/(black+white) >0.5 :\n",
    "                print(k_dict[valasz_szam] + '. valasz bejelolve' )\n",
    "            else:\n",
    "                print(k_dict[valasz_szam] + '. valasz nincs bejelolve' )\n",
    "            valasz_szam+=1\n",
    "    kerdes_szam+=1"
   ]
  },
  {
   "cell_type": "markdown",
   "metadata": {},
   "source": [
    "Végül a vizsgalap fejléc QR kódjának adatainak kinyerése történik, a vizsgázó nevének és Neptun kódjának kinyerése, illetve a QR kódba lévő, vizsgalap kiértékelést segítő, helyes válaszok adatát kódoló karaktersorozat kiíratása."
   ]
  },
  {
   "cell_type": "code",
   "execution_count": 16,
   "metadata": {},
   "outputs": [
    {
     "name": "stdout",
     "output_type": "stream",
     "text": [
      "Név: Egri Sandor Attila, Neptun kód:  NEPTUN-KOD\n",
      "Kérdés-válaszok adatkódja:  7541-be76-38b4-44b4-a3a7-f015-5c38-ba59\n"
     ]
    }
   ],
   "source": [
    "qr_data = decode(im)[0][0].decode().split(';')\n",
    "print('Név: ' + qr_data[0] + ', Neptun kód: ' + qr_data[1])\n",
    "print('Kérdés-válaszok adatkódja: ' + qr_data[2])"
   ]
  }
 ],
 "metadata": {
  "kernelspec": {
   "display_name": "Python 3",
   "language": "python",
   "name": "python3"
  },
  "language_info": {
   "codemirror_mode": {
    "name": "ipython",
    "version": 3
   },
   "file_extension": ".py",
   "mimetype": "text/x-python",
   "name": "python",
   "nbconvert_exporter": "python",
   "pygments_lexer": "ipython3",
   "version": "3.6.6"
  }
 },
 "nbformat": 4,
 "nbformat_minor": 2
}
